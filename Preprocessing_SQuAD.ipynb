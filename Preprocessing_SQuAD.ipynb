{
  "nbformat": 4,
  "nbformat_minor": 0,
  "metadata": {
    "colab": {
      "name": "Preprocessing_SQuAD.ipynb",
      "version": "0.3.2",
      "provenance": [],
      "include_colab_link": true
    },
    "kernelspec": {
      "name": "python3",
      "display_name": "Python 3"
    }
  },
  "cells": [
    {
      "cell_type": "markdown",
      "metadata": {
        "id": "view-in-github",
        "colab_type": "text"
      },
      "source": [
        "<a href=\"https://colab.research.google.com/github/kzafeiroudi/QuestRecommend/blob/master/Preprocessing_SQuAD.ipynb\" target=\"_parent\"><img src=\"https://colab.research.google.com/assets/colab-badge.svg\" alt=\"Open In Colab\"/></a>"
      ]
    },
    {
      "metadata": {
        "id": "2SJrDBgZ1hA3",
        "colab_type": "text"
      },
      "cell_type": "markdown",
      "source": [
        "# Preprocessing the SQuAD dataset"
      ]
    },
    {
      "metadata": {
        "id": "tT0f3WU51nmT",
        "colab_type": "text"
      },
      "cell_type": "markdown",
      "source": [
        "## The dataset\n",
        "\n",
        "After looking into the Quora Question Pairs dataset, it is now time to apply the deveoped process on the SQuAD dataset. The part of the SQuAD dataset that we are going to use here consists of:\n",
        "\n",
        "*  3111 unique questions\n",
        "*  30 unique article topics from Wikipedia\n",
        "\n",
        "Each instance of this part of the dataset has the following attributes:\n",
        "* sentID : A unique identifier for each question\n",
        "* Question: The full text of the question\n",
        "* Class: The article title of the Wikipedia page the question was derived from, used here as a nominal class"
      ]
    },
    {
      "metadata": {
        "id": "Uk81xvkJ5O6L",
        "colab_type": "text"
      },
      "cell_type": "markdown",
      "source": [
        "## Upload the dataset\n",
        "\n",
        "Upload the file `squad.csv` that will be used in this Python 3 notebook."
      ]
    },
    {
      "metadata": {
        "id": "pxHQmS7fC2jf",
        "colab_type": "code",
        "colab": {
          "resources": {
            "http://localhost:8080/nbextensions/google.colab/files.js": {
              "data": "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",
              "ok": true,
              "headers": [
                [
                  "content-type",
                  "application/javascript"
                ]
              ],
              "status": 200,
              "status_text": ""
            }
          },
          "base_uri": "https://localhost:8080/",
          "height": 71
        },
        "outputId": "fba62f1b-9b7b-4d6b-eeb1-a1803752bc17"
      },
      "cell_type": "code",
      "source": [
        "from google.colab import files\n",
        "\n",
        "# Choose from your own machine the file to upload - name should be \"squad.csv\"\n",
        "uploaded = files.upload()"
      ],
      "execution_count": 1,
      "outputs": [
        {
          "output_type": "display_data",
          "data": {
            "text/html": [
              "\n",
              "     <input type=\"file\" id=\"files-6fe2b7e7-cc2c-4c4d-bb83-d1eed2ff0813\" name=\"files[]\" multiple disabled />\n",
              "     <output id=\"result-6fe2b7e7-cc2c-4c4d-bb83-d1eed2ff0813\">\n",
              "      Upload widget is only available when the cell has been executed in the\n",
              "      current browser session. Please rerun this cell to enable.\n",
              "      </output>\n",
              "      <script src=\"/nbextensions/google.colab/files.js\"></script> "
            ],
            "text/plain": [
              "<IPython.core.display.HTML object>"
            ]
          },
          "metadata": {
            "tags": []
          }
        },
        {
          "output_type": "stream",
          "text": [
            "Saving squad.csv to squad.csv\n"
          ],
          "name": "stdout"
        }
      ]
    },
    {
      "metadata": {
        "id": "q9VtpJqZ5RPG",
        "colab_type": "text"
      },
      "cell_type": "markdown",
      "source": [
        "## Download a pre-trained English language model\n",
        "\n",
        "We will be using the large pre-trained statistical model for English, available by the **spaCy** free open-source library for NLP in Python. Find more [here](https://spacy.io/models/en#en_core_web_lg)."
      ]
    },
    {
      "metadata": {
        "id": "5zzfOAH1Dqcp",
        "colab_type": "code",
        "outputId": "ee527da5-f814-4b76-bc25-df93501c029c",
        "colab": {
          "base_uri": "https://localhost:8080/",
          "height": 309
        }
      },
      "cell_type": "code",
      "source": [
        "!python -m spacy download en_core_web_lg\n",
        "\n",
        "# Load the model\n",
        "import spacy\n",
        "nlp = spacy.load('en_core_web_lg')"
      ],
      "execution_count": 2,
      "outputs": [
        {
          "output_type": "stream",
          "text": [
            "Collecting en_core_web_lg==2.0.0 from https://github.com/explosion/spacy-models/releases/download/en_core_web_lg-2.0.0/en_core_web_lg-2.0.0.tar.gz#egg=en_core_web_lg==2.0.0\n",
            "\u001b[?25l  Downloading https://github.com/explosion/spacy-models/releases/download/en_core_web_lg-2.0.0/en_core_web_lg-2.0.0.tar.gz (852.3MB)\n",
            "\u001b[K     |████████████████████████████████| 852.3MB 1.2MB/s \n",
            "\u001b[?25hBuilding wheels for collected packages: en-core-web-lg\n",
            "  Building wheel for en-core-web-lg (setup.py) ... \u001b[?25l\u001b[?25hdone\n",
            "  Stored in directory: /tmp/pip-ephem-wheel-cache-ppjihu0k/wheels/0d/bc/67/e6a9108ab86cd076703af19ad4e0f02f57381ac6583df16249\n",
            "Successfully built en-core-web-lg\n",
            "Installing collected packages: en-core-web-lg\n",
            "Successfully installed en-core-web-lg-2.0.0\n",
            "\n",
            "\u001b[93m    Linking successful\u001b[0m\n",
            "    /usr/local/lib/python3.6/dist-packages/en_core_web_lg -->\n",
            "    /usr/local/lib/python3.6/dist-packages/spacy/data/en_core_web_lg\n",
            "\n",
            "    You can now load the model via spacy.load('en_core_web_lg')\n",
            "\n"
          ],
          "name": "stdout"
        }
      ]
    },
    {
      "metadata": {
        "id": "b5IEY7wm5Zih",
        "colab_type": "text"
      },
      "cell_type": "markdown",
      "source": [
        "## Importing Python libraries"
      ]
    },
    {
      "metadata": {
        "id": "e2bPUiQ35cpc",
        "colab_type": "code",
        "colab": {}
      },
      "cell_type": "code",
      "source": [
        "import csv\n",
        "import numpy as np\n",
        "import random\n",
        "from prettytable import PrettyTable"
      ],
      "execution_count": 0,
      "outputs": []
    },
    {
      "metadata": {
        "id": "4cRZLpKJ57aP",
        "colab_type": "text"
      },
      "cell_type": "markdown",
      "source": [
        "## Load the dataset"
      ]
    },
    {
      "metadata": {
        "id": "nw0AyuYfDrb_",
        "colab_type": "code",
        "colab": {
          "base_uri": "https://localhost:8080/",
          "height": 646
        },
        "outputId": "1edb92d5-122e-400d-c772-bab6cdc31e8a"
      },
      "cell_type": "code",
      "source": [
        "# Loading the SQuAD dataset\n",
        "data_file = 'squad.csv'\n",
        "new_data = []\n",
        "with open(data_file) as csvfile:\n",
        "    reader = csv.DictReader(csvfile)\n",
        "    for row in reader:\n",
        "        new_data.append(row)\n",
        "\n",
        "# Extracting the unique questions from the dataset, and all unique topics\n",
        "uniqueQ = []\n",
        "topics = {}\n",
        "for dd in new_data:\n",
        "    uniqueQ.append(dd['Question'])\n",
        "    if (dd['Class'] in topics):\n",
        "      topics[dd['Class']].append(dd['Question'])\n",
        "    else:\n",
        "      topics[dd['Class']] = [dd['Question']]\n",
        "\n",
        "# Print stats for the dataset\n",
        "print('Unique Questions: ', len(uniqueQ))\n",
        "print('Unique Topics: ', len(topics.keys()))\n",
        "print()\n",
        "\n",
        "# Print stats for each topic\n",
        "t = PrettyTable(['Topic', '# of Questions'])\n",
        "for tt in topics:\n",
        "  t.add_row([tt, len(topics[tt])])\n",
        "print(t)"
      ],
      "execution_count": 15,
      "outputs": [
        {
          "output_type": "stream",
          "text": [
            "Unique Questions:  3111\n",
            "Unique Topics:  30\n",
            "\n",
            "+---------------------------------+----------------+\n",
            "|              Topic              | # of Questions |\n",
            "+---------------------------------+----------------+\n",
            "|          Super_Bowl_50          |      106       |\n",
            "|              Warsaw             |      104       |\n",
            "|             Normans             |      101       |\n",
            "|           Nikola_Tesla          |      108       |\n",
            "| Computational_complexity_theory |      103       |\n",
            "|             Teacher             |      103       |\n",
            "|          Martin_Luther          |      102       |\n",
            "|       Southern_California       |      101       |\n",
            "|       Sky_(United_Kingdom)      |      103       |\n",
            "|       Victoria_(Australia)      |      104       |\n",
            "|             Huguenot            |      104       |\n",
            "|           Steam_engine          |      105       |\n",
            "|              Oxygen             |      105       |\n",
            "|         1973_oil_crisis         |      102       |\n",
            "|          Apollo_program         |      103       |\n",
            "|        European_Union_law       |      107       |\n",
            "|        Amazon_rainforest        |      108       |\n",
            "|            Ctenophora           |      105       |\n",
            "|        Fresno,_California       |      103       |\n",
            "|         Packet_switching        |      101       |\n",
            "|           Black_Death           |      104       |\n",
            "|             Geology             |      102       |\n",
            "|       Newcastle_upon_Tyne       |      104       |\n",
            "|    Victoria_and_Albert_Museum   |      103       |\n",
            "|  American_Broadcasting_Company  |      102       |\n",
            "|           Genghis_Khan          |      104       |\n",
            "|             Pharmacy            |      105       |\n",
            "|          Immune_system          |      105       |\n",
            "|        Civil_disobedience       |      106       |\n",
            "|           Construction          |       98       |\n",
            "+---------------------------------+----------------+\n"
          ],
          "name": "stdout"
        }
      ]
    },
    {
      "metadata": {
        "id": "KoOtI36QAAMd",
        "colab_type": "text"
      },
      "cell_type": "markdown",
      "source": [
        "## Implementing a cosine similarity function\n",
        "\n",
        "`cosine(vA, vB)` calculates the cosine similarity between two vectors `vA` and `vB`."
      ]
    },
    {
      "metadata": {
        "id": "VtXwn27OABJE",
        "colab_type": "code",
        "colab": {}
      },
      "cell_type": "code",
      "source": [
        "def cosine(vA, vB):\n",
        "  cos = np.dot(vA, vB) / (np.sqrt(np.dot(vA, vA)) * np.sqrt(np.dot(vB, vB)))\n",
        "  return cos.astype('float64')"
      ],
      "execution_count": 0,
      "outputs": []
    },
    {
      "metadata": {
        "id": "th7x4i1gEsT8",
        "colab_type": "text"
      },
      "cell_type": "markdown",
      "source": [
        "## Calculating the question vector representation\n",
        "\n",
        "We will use only the main verb arguments of the question to calculate the question embeddings, since the process we followed for the Quora Question Pairs dataset showed that question are less likely to be considered duplicates when they are not.\n",
        "\n",
        "The final result is saved in the file `squad_vectors.csv`, which will then be used to perform classification and clustering."
      ]
    },
    {
      "metadata": {
        "id": "1Lvk9Z-qD8sr",
        "colab_type": "code",
        "colab": {}
      },
      "cell_type": "code",
      "source": [
        "squad = []\n",
        "for i in range(len(new_data)):\n",
        "  foo = nlp(new_data[i]['Question'])\n",
        "  calc = [np.zeros(300, dtype='float64')]\n",
        "  for nn in foo.noun_chunks:\n",
        "      calc.append(nn.vector)\n",
        "  vA = np.sum(calc, axis=0).astype('float64')\n",
        "  squad.append(vA)\n",
        "\n",
        "toCSV = []\n",
        "for i in range(len(new_data)):\n",
        "  boo = new_data[i]\n",
        "  boo['Question'] = boo['Question'].replace('\\\"', '').replace('\\'','')\n",
        "  for j in range(300):\n",
        "    boo['vector_' + str(j+1)] = squad[i][j]\n",
        "  toCSV.append(boo)\n",
        "\n",
        "with open('squad_vectors.csv', 'w') as csvfile:\n",
        "  fieldnames = list(boo.keys())\n",
        "  writer = csv.DictWriter(csvfile, fieldnames=fieldnames)\n",
        "  writer.writeheader()\n",
        "  for i in range(len(toCSV)):\n",
        "    writer.writerow(toCSV[i])"
      ],
      "execution_count": 0,
      "outputs": []
    },
    {
      "metadata": {
        "id": "7TpRIiDt8Sfv",
        "colab_type": "text"
      },
      "cell_type": "markdown",
      "source": [
        "## Testing whether the dataset is large enough for the task\n",
        "\n",
        "In this section, we calculate the mean vector representation across all questions that belong in the same class, showcasing that these vectors do not coincide, and thus we have a heterogenous dataset good enough for the task.\n",
        "\n",
        "As we can see, by running this code, there is no occurence of *Same means* in the standard output."
      ]
    },
    {
      "metadata": {
        "id": "xLphPI4X8TER",
        "colab_type": "code",
        "colab": {}
      },
      "cell_type": "code",
      "source": [
        "# cl: all different classes\n",
        "classes = list(topics.keys())\n",
        "\n",
        "# calc: to calculate the mean vector representation per class\n",
        "calc = {}\n",
        "for cc in classes:\n",
        "  calc[cc] = []\n",
        "\n",
        "for i in range(len(new_data)):\n",
        "  calc[new_data[i]['Class']].append(squad[i])\n",
        "\n",
        "# means: to store the mean vector representation of each class\n",
        "means = {}\n",
        "\n",
        "for cc in classes:\n",
        "  means[cc] = np.mean(calc[cc], axis=0)\n",
        "\n",
        "for i in range(len(classes)):\n",
        "  for j in range(i+1, len(classes)):\n",
        "    if (any(means[keys[i]] == means[keys[j]])):\n",
        "      print('Same means')"
      ],
      "execution_count": 0,
      "outputs": []
    },
    {
      "metadata": {
        "id": "lRL0RkVLTLb5",
        "colab_type": "text"
      },
      "cell_type": "markdown",
      "source": [
        "## Evaluating the results if we were to rely completely on the cosine similarity\n",
        "\n",
        "For this task, we will pick randomly 100 questions, we will calculate the vector representation on the full body of the question, and by calculating the cosine similarity between split1 (34 questions) and split2 (66 questions), we will show the questions that is suggestive to group together due to the process we have developed so far."
      ]
    },
    {
      "metadata": {
        "id": "92zQ7gJoP9Le",
        "colab_type": "code",
        "colab": {}
      },
      "cell_type": "code",
      "source": [
        "# Shuffling the sequence of questions\n",
        "new = list(range(len(new_data)))\n",
        "random.shuffle(new)\n",
        "\n",
        "# Picking randomly 340 for split1\n",
        "# and 660 for split2\n",
        "split1 = {}\n",
        "split2 = {}\n",
        "for i in new[:340]:\n",
        "  q = new_data[i]['Question']\n",
        "  split1[q] = {'vec': nlp(q), 'class' : new_data[i]['Class']}\n",
        "for i in new[340:1000]:\n",
        "  q = new_data[i]['Question']\n",
        "  split2[q] = {'vec': nlp(q), 'class' : new_data[i]['Class']}\n",
        "\n",
        "# Calculate the question vector on the full body of the question\n",
        "# and save the questions from split2 that are closely related to \n",
        "# questions from split1 (cosine similarity > 0.93 as per our first\n",
        "# classification task)\n",
        "rank = {}\n",
        "for tt in split1:\n",
        "  rank[tt] = []\n",
        "  vA = split1[tt]['vec'].vector\n",
        "  for tr in split2:\n",
        "    vB = split2[tr]['vec'].vector\n",
        "    cos = cosine(vA, vB)\n",
        "    if (cos > 0.93):\n",
        "      rank[tt].append(tr)"
      ],
      "execution_count": 0,
      "outputs": []
    },
    {
      "metadata": {
        "id": "rMWlsJgATqyM",
        "colab_type": "code",
        "colab": {
          "base_uri": "https://localhost:8080/",
          "height": 5851
        },
        "outputId": "bca76751-b024-46ad-af2f-dae9dbd36b32"
      },
      "cell_type": "code",
      "source": [
        "for q in rank:\n",
        "  if(rank[q] != []):\n",
        "    print('Input Question:')\n",
        "    print('\\t-',q)\n",
        "    print('Related Questions:')\n",
        "    for rr in rank[q]:\n",
        "      print('\\t-', rr)\n",
        "    print()"
      ],
      "execution_count": 75,
      "outputs": [
        {
          "output_type": "stream",
          "text": [
            "Input Question:\n",
            "\t- What did Tesla dress in while in Tominaj?\n",
            "Related Questions:\n",
            "\t- What did Tesla struggle with while in school? \n",
            "\n",
            "Input Question:\n",
            "\t- Other than Point Conception, what landmark is used in the other definition of southern California?\n",
            "Related Questions:\n",
            "\t- Point Conception is an example of a landmark among what boundary of southern California?\n",
            "\n",
            "Input Question:\n",
            "\t- What is one part of the innate immune system that doesnt attack microbes directly?\n",
            "Related Questions:\n",
            "\t- What does the immune system protect against?\n",
            "\n",
            "Input Question:\n",
            "\t- What is one issue that adds to the complexity of a pharmacists job?\n",
            "Related Questions:\n",
            "\t- What is one example of an instance that the quantitative answer to the traveling salesman problem fails to answer?\n",
            "\t- What is one example of what a clinical pharmacists duties entail?\n",
            "\n",
            "Input Question:\n",
            "\t- In a 4-cylinder compound engine, what degree were the individual pistons balanced at?\n",
            "Related Questions:\n",
            "\t- At what angle were the groups of pistons set in relation to one another in a 4-cylinder compound?\n",
            "\n",
            "Input Question:\n",
            "\t- In which year did the V&A opened the first permanent architectural history gallery in the UK?\n",
            "Related Questions:\n",
            "\t- What was the title given to the major project to redesign all the galleries in the museum?\n",
            "\t- Which institution did the V&A partnered with to open the first permanent architectural history gallery in the UK?\n",
            "\t- What collection was transferred to the museum when the new architectural history gallery opened?\n",
            "\t- The use of gas lighting made what possible the year after the museum officially opened?\n",
            "\n",
            "Input Question:\n",
            "\t- Approximately how many architectural drawings does the V&A hold in its collection?\n",
            "Related Questions:\n",
            "\t- Approximately how many architectural photographs does the V&A hold in its collection?\n",
            "\n",
            "Input Question:\n",
            "\t- What types of preparation do pharmacists have?\n",
            "Related Questions:\n",
            "\t- What type of professionals are pharmacists?\n",
            "\n",
            "Input Question:\n",
            "\t- What city is the capital of Victoria?\n",
            "Related Questions:\n",
            "\t- What city in Victoria is called the sporting capital of Australia?\n",
            "\n",
            "Input Question:\n",
            "\t- What is the name given to the district that is associated with the motion picture industry?\n",
            "Related Questions:\n",
            "\t- What is another name for any given measure of input associated with a problem?\n",
            "\t- What is the name of the first aviation community built?\n",
            "\t- What department store is thought to be the first in the world?\n",
            "\t- What is the name of the state that the megaregion expands to in the east?\n",
            "\t- What was the advantage that the LOR method produced in the event of a spacecraft failure?\n",
            "\t- What is the term for the set of all connected graphs related to this decision problem?\n",
            "\n",
            "Input Question:\n",
            "\t- What are the three major types of rock? \n",
            "Related Questions:\n",
            "\t- What are the two different types of immunity?\n",
            "\n",
            "Input Question:\n",
            "\t- What does the immune system protect against?\n",
            "Related Questions:\n",
            "\t- What does the immune system protect against?\n",
            "\n",
            "Input Question:\n",
            "\t- Some of the income went to the purchase of arms which exacerbated political tension especially in which area?\n",
            "Related Questions:\n",
            "\t- What is one of the reason that US production has been held responsible for recessions and lower economic growth?\n",
            "\t- US is concerned about confrontation of the Middle East with which other country?\n",
            "\n",
            "Input Question:\n",
            "\t- Decision problems capable of being solved by a deterministic Turing machine while maintaining adherence to polynomial time belong to what class?\n",
            "Related Questions:\n",
            "\t- What field of computer science is primarily concerned with determining the likelihood of whether or not a problem can ultimately be solved using algorithms?\n",
            "\n",
            "Input Question:\n",
            "\t- Where did Super Bowl 50 take place?\n",
            "Related Questions:\n",
            "\t- What city did Super Bowl 50 take place in?\n",
            "\t- What year was Super Bowl 50?\n",
            "\n",
            "Input Question:\n",
            "\t- What is the name of the desert city?\n",
            "Related Questions:\n",
            "\t- What is the name of the state that the megaregion expands to in the east?\n",
            "\t- What name was given to the western half of the colony?\n",
            "\n",
            "Input Question:\n",
            "\t- Who is most likely to teach a child at home?\n",
            "Related Questions:\n",
            "\t- Where is a teacher most likely to be teaching at?\n",
            "\n",
            "Input Question:\n",
            "\t- In lands attributed to what tribe are found remains of large settlements?\n",
            "Related Questions:\n",
            "\t- In which region tribe were large settlements discovered?\n",
            "\n",
            "Input Question:\n",
            "\t- What is one of the first responses the immune system has to infection?\n",
            "Related Questions:\n",
            "\t- Which part of the immune system protects the brain?\n",
            "\t- What are one of the key cell types of the adaptive immune system?\n",
            "\n",
            "Input Question:\n",
            "\t- What was the name of the eastern half of the colony of 1788?\n",
            "Related Questions:\n",
            "\t- What name was given to the western half of the colony?\n",
            "\t- How much of the population in the Middle East died of the plague?\n",
            "\n",
            "Input Question:\n",
            "\t- What is a common punishment in Singapore?\n",
            "Related Questions:\n",
            "\t- What is a common punishment in the UK and Ireland?\n",
            "\n",
            "Input Question:\n",
            "\t- What did Tesla work as after dropping out? \n",
            "Related Questions:\n",
            "\t- When did Tesla go to Karlovac?\n",
            "\t- When did Tesla come to the US?\n",
            "\n",
            "Input Question:\n",
            "\t- What became the foundation of the Reformation?\n",
            "Related Questions:\n",
            "\t- What was the first point of the Reformation?\n",
            "\t- How many points are there in the foundation of the Reformation?\n",
            "\n",
            "Input Question:\n",
            "\t- In which direction did the water on the eastern side flow?\n",
            "Related Questions:\n",
            "\t- Where did the water in the Amazon Basin flow towards when moving west?\n",
            "\n",
            "Input Question:\n",
            "\t- Near where in the continent is it believed that the Amazon basin split?\n",
            "Related Questions:\n",
            "\t- When was the drainage basin of the Amazon believed to have split in the middle of South America?\n",
            "\t- Where did the water in the Amazon Basin flow towards when moving west?\n",
            "\n",
            "Input Question:\n",
            "\t- What are the main sources of primary law?\n",
            "Related Questions:\n",
            "\t- What are the three main sources of European Union law?\n",
            "\t- What are the three sources of European Union law?\n",
            "\n",
            "Input Question:\n",
            "\t- What will the output be for a member of the language of a decision problem?\n",
            "Related Questions:\n",
            "\t- What is another name for any given measure of input associated with a problem?\n",
            "\t- What type of system takes students from one specialist to another for each subject?\n",
            "\t- What is a main duty of the GPhC?\n",
            "\t- What is another term for the string of a problem instance?\n",
            "\t- What was the advantage that the LOR method produced in the event of a spacecraft failure?\n",
            "\t- What encoding decision needs to be made in order to determine an exact definition of the formal language?\n",
            "\t- What is the term for the set of all connected graphs related to this decision problem?\n",
            "\t- What is one example of an instance that the quantitative answer to the traveling salesman problem fails to answer?\n",
            "\n",
            "Input Question:\n",
            "\t- What is one of the reason that underdeveloped nations received aid from the oil income?\n",
            "Related Questions:\n",
            "\t- What is one of the reason that US production has been held responsible for recessions and lower economic growth?\n",
            "\n",
            "Input Question:\n",
            "\t- What extinction event might have created some conditions allowing the expansion of the amazon rainforest?\n",
            "Related Questions:\n",
            "\t- Which type of climate may have allowed the rainforest to spread across the continent?\n",
            "\n",
            "Input Question:\n",
            "\t- What field involves the study of the immune system?\n",
            "Related Questions:\n",
            "\t- Which part of the immune system protects the brain?\n",
            "\t- What are one of the key cell types of the adaptive immune system?\n",
            "\n",
            "Input Question:\n",
            "\t- How is civil disobedience typically defined in connection of the citizens?\n",
            "Related Questions:\n",
            "\t- What group of people cannot be part of civil disobedience?\n",
            "\t- What civil rights movement in the US was known for its disobedience?\n",
            "\t- Constitutional impasse is different from civil disobedience because does not include what type of person?\n",
            "\n",
            "Input Question:\n",
            "\t- The uniflow engine is an attempt to fix an issue that arises in what cycle?\n",
            "Related Questions:\n",
            "\t- What part is added to the uniflow engine to resolve the issue in the counterflow cycle?\n",
            "\t- What is it called when there is an active attempt to overthrow a government or belief system?\n",
            "\t- What is one example of an instance that the quantitative answer to the traveling salesman problem fails to answer?\n",
            "\n",
            "Input Question:\n",
            "\t- A function problem is an example of what?\n",
            "Related Questions:\n",
            "\t- Communication complexity is an example of what type of measure?\n",
            "\t- What is another name for any given measure of input associated with a problem?\n",
            "\t- What is another term for the string of a problem instance?\n",
            "\t- What is one example of an instance that the quantitative answer to the traveling salesman problem fails to answer?\n",
            "\n",
            "Input Question:\n",
            "\t- What is the term for a hyperactive immune system that attacks normal tissues?\n",
            "Related Questions:\n",
            "\t- What happens when the immune system less active than normal?\n",
            "\n",
            "Input Question:\n",
            "\t- What type of ratios are used in geochronologic and thermochronologic studies?\n",
            "Related Questions:\n",
            "\t- Time and space are both examples of what type of resource?\n",
            "\n",
            "Input Question:\n",
            "\t- A teacher must be a member in good standing with what entity in many situations?\n",
            "Related Questions:\n",
            "\t- What type of disability would a teacher help a student with?\n",
            "\t- Where is a teacher most likely to be teaching at?\n",
            "\n",
            "Input Question:\n",
            "\t- In the determination of complexity classes, what are two examples of types of Turing machines?\n",
            "Related Questions:\n",
            "\t- Time and space are both examples of what type of resource?\n",
            "\n",
            "Input Question:\n",
            "\t- What is one of the supplementary sources of European Union law? \n",
            "Related Questions:\n",
            "\t- How many sources of European Union law are there?\n",
            "\t- What are the three main sources of European Union law?\n",
            "\t- What are the three sources of European Union law?\n",
            "\t- What is one supplementary source of European Union law?\n",
            "\t- What are the main legislative bodies of the European Union?\n",
            "\n",
            "Input Question:\n",
            "\t- When violence is used, what is civil disobedience sometimes called?\n",
            "Related Questions:\n",
            "\t- People behaving with civil disobedience that is not-violent is said to make society have more of what?\n",
            "\n",
            "Input Question:\n",
            "\t- Where can ctenophores be found in large amounts?\n",
            "Related Questions:\n",
            "\t- Where do ctenophores be found in large numbers?\n",
            "\n",
            "Input Question:\n",
            "\t- Who did the Panthers beat in the NFC Championship Game?\n",
            "Related Questions:\n",
            "\t- Who did the Carolina Panthers beat in the 2015 NFC Championship game?\n",
            "\t- Who did Carolina beat in the NFC championship game?\n",
            "\n",
            "Input Question:\n",
            "\t- Was the LM intended to return to Earth at all?\n",
            "Related Questions:\n",
            "\t- How many men would the LM take to the lunar surface and return to the CSM?\n",
            "\n",
            "Input Question:\n",
            "\t- Who was Margarets brother?\n",
            "Related Questions:\n",
            "\t- Who was Margarets husband?\n",
            "\n",
            "Input Question:\n",
            "\t- How long would the invasion of the Middle East have to last in order to develop renewable resources?\n",
            "Related Questions:\n",
            "\t- How many times more did the other nations have to pay for oil after the surprise attack?\n",
            "\t- What was the general consensus Johnson came to regarding Americas progress on going to space and reaching a position of leadership?\n",
            "\t- What ended the need for ABC to maintain interests in other countries?\n",
            "\t- In what area of the United States did Tesla move to?\n",
            "\n",
            "Input Question:\n",
            "\t- The two AAA clubs divided the state into a northern and southern California as opposed to what point of view?\n",
            "Related Questions:\n",
            "\t- Other than the Automobile Club of Southern California, what other AAA Auto Club chose to simplify the divide?\n",
            "\n",
            "Input Question:\n",
            "\t- What is the name of the holding company for BSkyB?\n",
            "Related Questions:\n",
            "\t- What is the name of the United Kingdom operation for BSkyB?\n",
            "\n",
            "Input Question:\n",
            "\t- What is European Union Law?\n",
            "Related Questions:\n",
            "\t- Who can enforce European Union law?\n",
            "\t- What is one supplementary source of European Union law?\n",
            "\t- What is the highest court in European Union law?\n",
            "\n",
            "Input Question:\n",
            "\t- How much of a voting majority must there be to effectively censure the Commission?\n",
            "Related Questions:\n",
            "\t- What type of vote must the Council pass in order to approve of any changes recommended by Parliament? \n",
            "\n",
            "Input Question:\n",
            "\t- What is the lowest recorded temperature in Victoria?\n",
            "Related Questions:\n",
            "\t- On what date was the record low temperature in Fresno?\n",
            "\n",
            "Input Question:\n",
            "\t- What did Tesla do in Tomingaj?\n",
            "Related Questions:\n",
            "\t- When did Tesla go to Karlovac?\n",
            "\t- Where did Tesla teach in Gospic?\n",
            "\n",
            "Input Question:\n",
            "\t- How similar was the Lisbon Treaty to the constitutional treaty?\n",
            "Related Questions:\n",
            "\t- What treaty took the place of constitutional treaty? \n",
            "\n",
            "Input Question:\n",
            "\t- Who designed the wrought iron gates that was used to embellish the east side of the building?\n",
            "Related Questions:\n",
            "\t- What technique was used to decorate the east side of the building?\n",
            "\t- Who designed the bronze doors used as the main entrance to the museum?\n",
            "\n",
            "Input Question:\n",
            "\t- What is the name of the region that is not defined by the eight or 10 county definitions?\n",
            "Related Questions:\n",
            "\t- What is the name of the state that the megaregion expands to in the east?\n",
            "\n",
            "Input Question:\n",
            "\t- What was the name given to a section of Kearney Boulevard in efforts to change the areas image?\n",
            "Related Questions:\n",
            "\t- What was the title given to the major project to redesign all the galleries in the museum?\n",
            "\t- What department store is thought to be the first in the world?\n",
            "\t- What is the name of the state that the megaregion expands to in the east?\n",
            "\n",
            "Input Question:\n",
            "\t- What month, day and year did Super Bowl 50 take place? \n",
            "Related Questions:\n",
            "\t- What city did Super Bowl 50 take place in?\n",
            "\t- What year was Super Bowl 50?\n",
            "\n",
            "Input Question:\n",
            "\t- Who were special guests for the Super Bowl halftime show?\n",
            "Related Questions:\n",
            "\t- Who headlined the halftime show for Super Bowl 50?\n",
            "\n",
            "Input Question:\n",
            "\t- What is the general term used to describe the output to any given input in a problem instance?\n",
            "Related Questions:\n",
            "\t- What is another name for any given measure of input associated with a problem?\n",
            "\t- What is the term given to algorithms that utilize random bits?\n",
            "\t- How many outputs are expected for each input in a function problem?\n",
            "\t- What field of computer science is primarily concerned with determining the likelihood of whether or not a problem can ultimately be solved using algorithms?\n",
            "\t- What provides a solution to a list of integers provided as input that ned to be sorted?\n",
            "\t- What is another term for the string of a problem instance?\n",
            "\t- What encoding decision needs to be made in order to determine an exact definition of the formal language?\n",
            "\t- What is the term for the set of all connected graphs related to this decision problem?\n",
            "\t- What is one example of an instance that the quantitative answer to the traveling salesman problem fails to answer?\n",
            "\n"
          ],
          "name": "stdout"
        }
      ]
    }
  ]
}