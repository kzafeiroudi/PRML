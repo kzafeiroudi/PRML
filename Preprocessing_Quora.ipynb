{
  "nbformat": 4,
  "nbformat_minor": 0,
  "metadata": {
    "colab": {
      "name": "Preprocessing_Quora.ipynb",
      "version": "0.3.2",
      "provenance": [],
      "include_colab_link": true
    },
    "kernelspec": {
      "name": "python3",
      "display_name": "Python 3"
    }
  },
  "cells": [
    {
      "cell_type": "markdown",
      "metadata": {
        "id": "view-in-github",
        "colab_type": "text"
      },
      "source": [
        "<a href=\"https://colab.research.google.com/github/kzafeiroudi/PRML/blob/master/Preprocessing_Quora.ipynb\" target=\"_parent\"><img src=\"https://colab.research.google.com/assets/colab-badge.svg\" alt=\"Open In Colab\"/></a>"
      ]
    },
    {
      "metadata": {
        "id": "QN3erKfPthqN",
        "colab_type": "text"
      },
      "cell_type": "markdown",
      "source": [
        "# Preprocessing the Quora Question Pairs dataset\n",
        "\n",
        "## The dataset\n",
        "\n",
        "For the purpose of this project, we first look into the Quora Question Pairs dataset that consists of:\n",
        "\n",
        "*  537933 unique questions\n",
        "*  404290 pairs of questions\n",
        "* 149263 pairs of questions marked as duplicates\n",
        "* 255027 pairs of questions marked as non duplicates\n",
        "\n",
        "Each instance of the dataset has the following attributes:\n",
        "* id : A unique identifier for each training set question pair\n",
        "* qid1: A unique identifier for the first question in the pair\n",
        "* qid2: A unique identifier for the second question in the pair\n",
        "* question1: The full text of the first question \n",
        "* question2: The full text of the second question\n",
        "* is_duplicate: The target variable, set to 1 if question1 and question2 have essentially the same meaning, and 0 otherwise"
      ]
    },
    {
      "metadata": {
        "id": "boq_CGJswRCs",
        "colab_type": "text"
      },
      "cell_type": "markdown",
      "source": [
        "## Upload the dataset\n",
        "\n",
        "Upload the file *quora.csv* that will be used in this Python 3 notebook."
      ]
    },
    {
      "metadata": {
        "id": "diQhTZMN4q7k",
        "colab_type": "code",
        "colab": {
          "resources": {
            "http://localhost:8080/nbextensions/google.colab/files.js": {
              "data": "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",
              "ok": true,
              "headers": [
                [
                  "content-type",
                  "application/javascript"
                ]
              ],
              "status": 200,
              "status_text": ""
            }
          },
          "base_uri": "https://localhost:8080/",
          "height": 88
        },
        "outputId": "1aa6d5f2-5c66-4141-d3fe-3df588f3c0d3"
      },
      "cell_type": "code",
      "source": [
        "from google.colab import files\n",
        "\n",
        "# Choose from your own machine the file to upload - name should be \"quora.csv\"\n",
        "uploaded = files.upload()\n",
        "!ls"
      ],
      "execution_count": 2,
      "outputs": [
        {
          "output_type": "display_data",
          "data": {
            "text/html": [
              "\n",
              "     <input type=\"file\" id=\"files-05eb0026-6cfe-4202-be90-66252e1af11b\" name=\"files[]\" multiple disabled />\n",
              "     <output id=\"result-05eb0026-6cfe-4202-be90-66252e1af11b\">\n",
              "      Upload widget is only available when the cell has been executed in the\n",
              "      current browser session. Please rerun this cell to enable.\n",
              "      </output>\n",
              "      <script src=\"/nbextensions/google.colab/files.js\"></script> "
            ],
            "text/plain": [
              "<IPython.core.display.HTML object>"
            ]
          },
          "metadata": {
            "tags": []
          }
        },
        {
          "output_type": "stream",
          "text": [
            "Saving quora.csv to quora.csv\n",
            "gdrive\tquora.csv  sample_data\n"
          ],
          "name": "stdout"
        }
      ]
    },
    {
      "metadata": {
        "id": "EcBv8yEG5abh",
        "colab_type": "code",
        "cellView": "code",
        "colab": {}
      },
      "cell_type": "code",
      "source": [
        "!python -m spacy download en_core_web_lg"
      ],
      "execution_count": 0,
      "outputs": []
    },
    {
      "metadata": {
        "id": "l1cBggXB5MYc",
        "colab_type": "code",
        "colab": {}
      },
      "cell_type": "code",
      "source": [
        "import csv, sys\n",
        "import spacy\n",
        "# reload(sys)\n",
        "# sys.setdefaultencoding('utf8')\n",
        "\n",
        "# Loading the Quora Question Pairs dataset\n",
        "data_file = 'quora.csv'\n",
        "new_data = []\n",
        "with open(data_file) as csvfile:\n",
        "    reader = csv.DictReader(csvfile)\n",
        "    for row in reader:\n",
        "        new_data.append(row)\n",
        "\n",
        "# Extracting the unique questions from the dataset\n",
        "uniqueQ = {}\n",
        "classes = {}\n",
        "class_count = 0\n",
        "pairs = {}\n",
        "pairs_count = 0\n",
        "duplicate = {}\n",
        "dup = 0\n",
        "non_duplicate = {}\n",
        "ndup = 0\n",
        "for dd in new_data:\n",
        "    uniqueQ[dd['qid1']] = dd['question1']\n",
        "    uniqueQ[dd['qid2']] = dd['question2']\n",
        "    if dd['qid1'] in classes:\n",
        "      classes[dd['qid2']] = classes[dd['qid1']]\n",
        "    elif dd['qid2'] in classes:\n",
        "      classes[dd['qid1']] = classes[dd['qid2']]\n",
        "    else:\n",
        "      class_count += 1\n",
        "      classes[dd['qid1']] = \"Class_\" + str(class_count)\n",
        "      classes[dd['qid2']] = \"Class_\" + str(class_count)\n",
        "    pairs_count += 1\n",
        "    pairs[pairs_count] = (dd['question1'], dd['question2'])\n",
        "    if (dd['is_duplicate'] == '0'):\n",
        "      ndup += 1\n",
        "      non_duplicate[ndup] = (dd['question1'], dd['question2'])\n",
        "    else:\n",
        "      dup += 1\n",
        "      duplicate[dup] = (dd['question1'], dd['question2'])\n",
        "\n",
        "\n",
        "# nlp = spacy.load('en_core_web_lg')\n",
        "\n"
      ],
      "execution_count": 0,
      "outputs": []
    },
    {
      "metadata": {
        "id": "C9s_ug71LD-i",
        "colab_type": "code",
        "outputId": "f03ae8a0-4404-486f-b94c-840cdd562924",
        "colab": {
          "base_uri": "https://localhost:8080/",
          "height": 51
        }
      },
      "cell_type": "code",
      "source": [
        "print(duplicate[17])\n",
        "print(non_duplicate[3])"
      ],
      "execution_count": 0,
      "outputs": [
        {
          "output_type": "stream",
          "text": [
            "('Will a Blu Ray play on a regular DVD player? If so, how?', 'How can you play a Blu Ray DVD on a regular DVD player?')\n",
            "('How can I increase the speed of my internet connection while using a VPN?', 'How can Internet speed be increased by hacking through DNS?')\n"
          ],
          "name": "stdout"
        }
      ]
    },
    {
      "metadata": {
        "id": "Rkeusf9K7iPR",
        "colab_type": "code",
        "outputId": "eb43ba28-f164-4bb7-fc16-f1923b3a61dc",
        "colab": {
          "base_uri": "https://localhost:8080/",
          "height": 357
        }
      },
      "cell_type": "code",
      "source": [
        "# print(len(uniqueQ))\n",
        "# for i in range(1,30):\n",
        "#   print(pairs[i])\n",
        "# print(pairs_count)\n",
        "import numpy as np\n",
        "def cosine(vA, vB):\n",
        "  cos = numpy.dot(vA, vB) / (numpy.sqrt(numpy.dot(vA,vA)) * numpy.sqrt(numpy.dot(vB,vB)))\n",
        "  return cos.astype('float64')\n",
        "\n",
        "(a, b) = duplicate[17]\n",
        "foo1 = nlp(a)\n",
        "print(foo1)\n",
        "foo2 = nlp(b)\n",
        "print(foo2)\n",
        "print(foo1.similarity(foo2))\n",
        "calc1 = []\n",
        "for nn in foo1.noun_chunks:\n",
        "    print(nn)\n",
        "    calc1.append(nn.vector)\n",
        "calc2 = []\n",
        "for nn in foo2.noun_chunks:\n",
        "    print(nn)\n",
        "    calc2.append(nn.vector)\n",
        "vA = np.sum(calc1, axis=0)\n",
        "vB = np.sum(calc2, axis=0)\n",
        "print(cosine(vA, vB))\n",
        "\n",
        "print('****')\n",
        "\n",
        "(a, b) = non_duplicate[3]\n",
        "foo1 = nlp(a)\n",
        "print(foo1)\n",
        "foo2 = nlp(b)\n",
        "print(foo2)\n",
        "print(foo1.similarity(foo2))\n",
        "calc1 = []\n",
        "for nn in foo1.noun_chunks:\n",
        "    print(nn)\n",
        "    calc1.append(nn.vector)\n",
        "calc2 = []\n",
        "for nn in foo2.noun_chunks:\n",
        "    print(nn)\n",
        "    calc2.append(nn.vector)\n",
        "vA = np.sum(calc1, axis=0)\n",
        "vB = np.sum(calc2, axis=0)\n",
        "print(cosine(vA, vB))"
      ],
      "execution_count": 0,
      "outputs": [
        {
          "output_type": "stream",
          "text": [
            "Will a Blu Ray play on a regular DVD player? If so, how?\n",
            "How can you play a Blu Ray DVD on a regular DVD player?\n",
            "0.9717130630470544\n",
            "a Blu Ray\n",
            "a regular DVD player\n",
            "you\n",
            "a Blu Ray DVD\n",
            "a regular DVD player\n",
            "0.914749264717102\n",
            "****\n",
            "How can I increase the speed of my internet connection while using a VPN?\n",
            "How can Internet speed be increased by hacking through DNS?\n",
            "0.9290680453645342\n",
            "I\n",
            "the speed\n",
            "my internet connection\n",
            "a VPN\n",
            "Internet speed\n",
            "DNS\n",
            "0.670642077922821\n"
          ],
          "name": "stdout"
        }
      ]
    },
    {
      "metadata": {
        "id": "6kfRlmFuJsQP",
        "colab_type": "code",
        "outputId": "e2a16e5d-0ef3-43b7-826a-a4f2fdf43ee2",
        "colab": {
          "base_uri": "https://localhost:8080/",
          "height": 170
        }
      },
      "cell_type": "code",
      "source": [
        "sim_duplicate = []\n",
        "sim_duplicate2 = []\n",
        "for i in range(1, 5000):\n",
        "  (a, b) = duplicate[i]\n",
        "  foo1 = nlp(a)\n",
        "  foo2 = nlp(b)\n",
        "  \n",
        "\n",
        "  calc1 = [np.zeros(300, dtype='float64')]\n",
        "  for nn in foo1.noun_chunks:\n",
        "#       print(nn)\n",
        "      calc1.append(nn.vector)\n",
        "  calc2 = [np.zeros(300, dtype='float64')]\n",
        "  for nn in foo2.noun_chunks:\n",
        "#       print(nn)\n",
        "      calc2.append(nn.vector)\n",
        "  vA = np.sum(calc1, axis=0).astype('float64')\n",
        "  vB = np.sum(calc2, axis=0).astype('float64')\n",
        "  cos = cosine(vA, vB)\n",
        "  try:\n",
        "    if not (np.isnan(cos)):\n",
        "      sim_duplicate.append(foo1.similarity(foo2))\n",
        "      sim_duplicate2.append(cos)\n",
        "  except:\n",
        "    print('Exception!')\n",
        "\n",
        "print(min(sim_duplicate))\n",
        "print(max(sim_duplicate))\n",
        "print(np.average(sim_duplicate))\n",
        "print('***')\n",
        "print(min(sim_duplicate2))\n",
        "print(max(sim_duplicate2))\n",
        "print(np.average(sim_duplicate2))"
      ],
      "execution_count": 0,
      "outputs": [
        {
          "output_type": "stream",
          "text": [
            "/usr/local/lib/python3.6/dist-packages/ipykernel_launcher.py:3: RuntimeWarning: invalid value encountered in double_scalars\n",
            "  This is separate from the ipykernel package so we can avoid doing imports until\n"
          ],
          "name": "stderr"
        },
        {
          "output_type": "stream",
          "text": [
            "0.6468996546040794\n",
            "1.0000000858950187\n",
            "0.9465413936763243\n",
            "***\n",
            "-0.008805530308907383\n",
            "1.0000000000000004\n",
            "0.8805787954723814\n"
          ],
          "name": "stdout"
        }
      ]
    },
    {
      "metadata": {
        "id": "XbyEES_YbuGk",
        "colab_type": "code",
        "outputId": "59c9fa81-2b6f-41c6-a0a8-3cb575389e8c",
        "colab": {
          "base_uri": "https://localhost:8080/",
          "height": 51
        }
      },
      "cell_type": "code",
      "source": [
        "duplicate[1]"
      ],
      "execution_count": 0,
      "outputs": [
        {
          "output_type": "execute_result",
          "data": {
            "text/plain": [
              "('Astrology: I am a Capricorn Sun Cap moon and cap rising...what does that say about me?',\n",
              " \"I'm a triple Capricorn (Sun, Moon and ascendant in Capricorn) What does this say about me?\")"
            ]
          },
          "metadata": {
            "tags": []
          },
          "execution_count": 97
        }
      ]
    },
    {
      "metadata": {
        "id": "Qo3lJFaRMSQt",
        "colab_type": "code",
        "outputId": "b644a231-066a-4ffb-c858-36a62aaeda90",
        "colab": {
          "base_uri": "https://localhost:8080/",
          "height": 170
        }
      },
      "cell_type": "code",
      "source": [
        "sim_nonduplicate = []\n",
        "sim_nonduplicate2 = []\n",
        "for i in range(1, 5000):\n",
        "  (a, b) = non_duplicate[i]\n",
        "  foo1 = nlp(a)\n",
        "  foo2 = nlp(b)\n",
        "  \n",
        "  \n",
        "  calc1 = [np.zeros(300, dtype='float64')]\n",
        "  for nn in foo1.noun_chunks:\n",
        "#       print(nn)\n",
        "#       print(nn.vector)\n",
        "      calc1.append(nn.vector)\n",
        "  calc2 = [np.zeros(300, dtype='float64')]\n",
        "  for nn in foo2.noun_chunks:\n",
        "#       print(nn)\n",
        "#       print(nn.vector)\n",
        "      calc2.append(nn.vector)\n",
        "  vA = np.sum(calc1, axis=0).astype('float64')\n",
        "  vB = np.sum(calc2, axis=0).astype('float64')\n",
        "  cos = cosine(vA, vB)\n",
        "  if not (np.isnan(cos)):\n",
        "    sim_nonduplicate2.append(cos)\n",
        "    sim_nonduplicate.append(foo1.similarity(foo2))\n",
        "#   print('Cosine: ', np.isnan(cosine(vA, vB)))\n",
        "#   print('****')\n",
        "#   print(i)\n",
        "#   print(sim_nonduplicate2)\n",
        "\n",
        "print(min(sim_nonduplicate))\n",
        "print(max(sim_nonduplicate))\n",
        "print(np.average(sim_nonduplicate))\n",
        "print('****')\n",
        "print(min(sim_nonduplicate2))\n",
        "print(max(sim_nonduplicate2))\n",
        "print(np.average(sim_nonduplicate2))"
      ],
      "execution_count": 0,
      "outputs": [
        {
          "output_type": "stream",
          "text": [
            "/usr/local/lib/python3.6/dist-packages/ipykernel_launcher.py:3: RuntimeWarning: invalid value encountered in double_scalars\n",
            "  This is separate from the ipykernel package so we can avoid doing imports until\n"
          ],
          "name": "stderr"
        },
        {
          "output_type": "stream",
          "text": [
            "0.29264479268934257\n",
            "1.0000001169458588\n",
            "0.8947737652759219\n",
            "****\n",
            "-0.1132305785162487\n",
            "1.0000000000000002\n",
            "0.7746351169036362\n"
          ],
          "name": "stdout"
        }
      ]
    },
    {
      "metadata": {
        "id": "LiZ7jBGBcGe_",
        "colab_type": "code",
        "colab": {}
      },
      "cell_type": "code",
      "source": [
        "toCSV1 = []\n",
        "toCSV2 = []\n",
        "for i in sim_duplicate:\n",
        "  toCSV1.append({'Class':'Duplicate', 'Similarity_Metric':i})\n",
        "for i in sim_duplicate2:\n",
        "  toCSV2.append({'Class':'Duplicate', 'Similarity_Metric':i})\n",
        "for i in sim_nonduplicate:\n",
        "  toCSV1.append({'Class':'NonDuplicate', 'Similarity_Metric':i})\n",
        "for i in sim_nonduplicate2:\n",
        "  toCSV2.append({'Class':'NonDuplicate', 'Similarity_Metric':i})"
      ],
      "execution_count": 0,
      "outputs": []
    },
    {
      "metadata": {
        "id": "ztxBDqFyvk1S",
        "colab_type": "code",
        "colab": {}
      },
      "cell_type": "code",
      "source": [
        "with open('full_questions.csv', 'w') as csvfile:\n",
        "  fieldnames = ['Class', 'Similarity_Metric']\n",
        "  writer = csv.DictWriter(csvfile, fieldnames=fieldnames)\n",
        "  writer.writeheader()\n",
        "  for i in range(len(toCSV1)):\n",
        "    writer.writerow(toCSV1[i])"
      ],
      "execution_count": 0,
      "outputs": []
    },
    {
      "metadata": {
        "id": "gmT0X8SFyw6Z",
        "colab_type": "code",
        "colab": {}
      },
      "cell_type": "code",
      "source": [
        "with open('noun_chunks.csv', 'w') as csvfile:\n",
        "  fieldnames = ['Class', 'Similarity_Metric']\n",
        "  writer = csv.DictWriter(csvfile, fieldnames=fieldnames)\n",
        "  writer.writeheader()\n",
        "  for i in range(len(toCSV2)):\n",
        "    writer.writerow(toCSV2[i])"
      ],
      "execution_count": 0,
      "outputs": []
    },
    {
      "metadata": {
        "id": "OvVKevAn7hR1",
        "colab_type": "code",
        "outputId": "9fcf6ff7-7544-4475-cdd5-c2f7d7912de3",
        "colab": {
          "base_uri": "https://localhost:8080/",
          "height": 34
        }
      },
      "cell_type": "code",
      "source": [
        "# for start in range(400000, len(uniqueQ), 5000):\n",
        "for start in range(0, 1000, 1000):\n",
        "    end = min(len(uniqueQ), start+1000)\n",
        "    toCSV = []\n",
        "    for idQ in list(uniqueQ.keys())[start:end]:\n",
        "        foo = nlp(uniqueQ[idQ])\n",
        "        boo = {}\n",
        "        boo['QID'] = idQ\n",
        "        boo['Question'] = uniqueQ[idQ].replace(\"\\\"\", \"\").replace(\"\\'\", \"\")\n",
        "        boo['Class'] = classes[idQ]\n",
        "        for i in range(300):\n",
        "            boo['vector_' + str(i+1)] = foo.vector[i]\n",
        "        toCSV.append(boo)\n",
        "\n",
        "    print('Writing file: processed_quora_'+str(start)+'.csv')\n",
        "    with open('processed_quora_'+str(start)+'.csv', 'w') as csvfile:\n",
        "        fieldnames = ['QID', 'Question', 'Class']\n",
        "        for i in range(300):\n",
        "            fieldnames.append('vector_' + str(i+1))\n",
        "        writer = csv.DictWriter(csvfile, fieldnames=fieldnames)\n",
        "        writer.writeheader()\n",
        "        for i in range(len(toCSV)):\n",
        "            writer.writerow(toCSV[i])"
      ],
      "execution_count": 0,
      "outputs": [
        {
          "output_type": "stream",
          "text": [
            "Writing file: processed_quora_0.csv\n"
          ],
          "name": "stdout"
        }
      ]
    }
  ]
}